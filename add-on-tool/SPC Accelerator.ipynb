{
 "cells": [
  {
   "cell_type": "code",
   "execution_count": null,
   "id": "0a1aa933",
   "metadata": {
    "tags": []
   },
   "outputs": [],
   "source": [
    "from seeq import spy\n",
    "import urllib.parse as urlparse\n",
    "from urllib.parse import parse_qs\n",
    "from spc_accelerator import SPCAccelerator\n",
    "\n",
    "spy.options.compatibility = 190\n",
    "\n",
    "try:\n",
    "    url = jupyter_notebook_url  # pyright: ignore [reportUndefinedVariable]\n",
    "    parsed = urlparse.urlparse(url)\n",
    "    workbook_id = parse_qs(parsed.query)[\"workbookId\"][0]\n",
    "    worksheet_id = parse_qs(parsed.query)[\"worksheetId\"][0]\n",
    "    host = spy.client.host[:-3]\n",
    "except:\n",
    "    workbook_id = \"0EEE24C6-404E-FBA0-8D52-C1B9613F4BCA\"\n",
    "    worksheet_id = \"0EEE24C6-4B68-E860-8A05-DF56210D1AF3\"\n",
    "    host = \"https://develop.seeq.dev/\"\n",
    "\n",
    "URL = host + \"workbook/\" + workbook_id + \"/worksheet/\" + worksheet_id\n",
    "\n",
    "app = SPCAccelerator(URL, workbook_id, worksheet_id)\n",
    "app.run()"
   ]
  }
 ],
 "metadata": {
  "kernelspec": {
   "display_name": "Python 3.11",
   "language": "python",
   "name": "python311"
  },
  "language_info": {
   "codemirror_mode": {
    "name": "ipython",
    "version": 3
   },
   "file_extension": ".py",
   "mimetype": "text/x-python",
   "name": "python",
   "nbconvert_exporter": "python",
   "pygments_lexer": "ipython3",
   "version": "3.9.13"
  }
 },
 "nbformat": 4,
 "nbformat_minor": 5
}
