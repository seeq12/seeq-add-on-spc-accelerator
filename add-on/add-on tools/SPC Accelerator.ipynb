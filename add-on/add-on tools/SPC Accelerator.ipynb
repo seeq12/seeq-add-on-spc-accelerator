{
 "cells": [
  {
   "cell_type": "code",
   "execution_count": 2,
   "id": "0a1aa933",
   "metadata": {
    "tags": []
   },
   "outputs": [
    {
     "data": {
      "application/vnd.jupyter.widget-view+json": {
       "model_id": "7587f38eef2e4ded816b35e1ef454965",
       "version_major": 2,
       "version_minor": 0
      },
      "text/plain": [
       "VBox(children=(HBox(children=(HTML(value=\"<font size='+0'><b>Create Statistical Process Control (SPC) control …"
      ]
     },
     "metadata": {},
     "output_type": "display_data"
    }
   ],
   "source": [
    "from seeq import spy\n",
    "import urllib.parse as urlparse\n",
    "from urllib.parse import parse_qs\n",
    "from _app import SPCAccelerator\n",
    "\n",
    "spy.options.compatibility = 190\n",
    "\n",
    "try:\n",
    "    url = jupyter_notebook_url\n",
    "    parsed = urlparse.urlparse(url)\n",
    "    workbook_id = parse_qs(parsed.query)['workbookId'][0]\n",
    "    worksheet_id = parse_qs(parsed.query)['worksheetId'][0]\n",
    "    host = spy.client.host[:-3]\n",
    "except:\n",
    "    workbook_id = '0EEC6D6A-1444-7150-8FA9-18D6EE0001CB'\n",
    "    worksheet_id = '0EEC6D6A-203C-60C0-9E94-236661A1592E'\n",
    "    host = \"https://r62.seeq.dev/\"\n",
    "\n",
    "URL = host+'workbook/'+workbook_id+'/worksheet/'+worksheet_id\n",
    "\n",
    "app = SPCAccelerator(URL, workbook_id, worksheet_id)\n",
    "app.run()"
   ]
  }
 ],
 "metadata": {
  "kernelspec": {
   "display_name": "Python 3 (ipykernel)",
   "language": "python",
   "name": "python3"
  },
  "language_info": {
   "codemirror_mode": {
    "name": "ipython",
    "version": 3
   },
   "file_extension": ".py",
   "mimetype": "text/x-python",
   "name": "python",
   "nbconvert_exporter": "python",
   "pygments_lexer": "ipython3",
   "version": "3.9.13"
  }
 },
 "nbformat": 4,
 "nbformat_minor": 5
}
